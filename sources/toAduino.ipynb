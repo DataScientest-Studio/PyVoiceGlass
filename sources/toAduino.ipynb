{
 "cells": [
  {
   "cell_type": "code",
   "execution_count": 3,
   "metadata": {},
   "outputs": [
    {
     "name": "stdout",
     "output_type": "stream",
     "text": [
      "/dev/cu.Bluetooth-Incoming-Port - n/a\n",
      "/dev/cu.usbmodem143201 - Generic CDC\n"
     ]
    }
   ],
   "source": [
    "import serial, time\n",
    "import serial.tools.list_ports\n",
    "from time import sleep\n",
    "ports = list(serial.tools.list_ports.comports())\n",
    "for p in ports:\n",
    "    print(p)\n",
    "    if \"Arduino\" in p.description:\n",
    "            print(\"This is an Arduino!\")"
   ]
  },
  {
   "cell_type": "code",
   "execution_count": 4,
   "metadata": {},
   "outputs": [],
   "source": [
    "ard = serial.Serial('/dev/cu.usbmodem143201', 9600)\n",
    "time.sleep(1) #give the connection a second to settle"
   ]
  },
  {
   "cell_type": "code",
   "execution_count": null,
   "metadata": {},
   "outputs": [],
   "source": []
  },
  {
   "cell_type": "code",
   "execution_count": 13,
   "metadata": {
    "collapsed": true,
    "jupyter": {
     "outputs_hidden": true
    }
   },
   "outputs": [
    {
     "name": "stdout",
     "output_type": "stream",
     "text": [
      "I heard a faint movement under my feet\n"
     ]
    },
    {
     "ename": "KeyboardInterrupt",
     "evalue": "",
     "output_type": "error",
     "traceback": [
      "\u001b[0;31m---------------------------------------------------------------------------\u001b[0m",
      "\u001b[0;31mKeyboardInterrupt\u001b[0m                         Traceback (most recent call last)",
      "\u001b[0;32m<ipython-input-13-6e4430499534>\u001b[0m in \u001b[0;36m<module>\u001b[0;34m\u001b[0m\n\u001b[1;32m     22\u001b[0m     \u001b[0;31m#arduino.write(str(chr(counter))) # Convert the decimal number to ASCII then send it to the Arduino\u001b[0m\u001b[0;34m\u001b[0m\u001b[0;34m\u001b[0m\u001b[0;34m\u001b[0m\u001b[0m\n\u001b[1;32m     23\u001b[0m     \u001b[0;31m#print(arduino.readline()) # Read the newest output from the Arduino\u001b[0m\u001b[0;34m\u001b[0m\u001b[0;34m\u001b[0m\u001b[0;34m\u001b[0m\u001b[0m\n\u001b[0;32m---> 24\u001b[0;31m     \u001b[0mtime\u001b[0m\u001b[0;34m.\u001b[0m\u001b[0msleep\u001b[0m\u001b[0;34m(\u001b[0m\u001b[0;36m.5\u001b[0m\u001b[0;34m)\u001b[0m \u001b[0;31m# Delay for one tenth of a second\u001b[0m\u001b[0;34m\u001b[0m\u001b[0;34m\u001b[0m\u001b[0m\n\u001b[0m\u001b[1;32m     25\u001b[0m     \u001b[0;32mif\u001b[0m \u001b[0mcounter\u001b[0m \u001b[0;34m==\u001b[0m \u001b[0;36m255\u001b[0m\u001b[0;34m:\u001b[0m\u001b[0;34m\u001b[0m\u001b[0;34m\u001b[0m\u001b[0m\n\u001b[1;32m     26\u001b[0m         \u001b[0;32mbreak\u001b[0m\u001b[0;34m;\u001b[0m\u001b[0;34m\u001b[0m\u001b[0;34m\u001b[0m\u001b[0m\n",
      "\u001b[0;31mKeyboardInterrupt\u001b[0m: "
     ]
    }
   ],
   "source": [
    "txt = \"  I heard a faint movement under my feet\"\n",
    "#ard.write(text.encode())\n",
    "#ard.write(\"Hello\".encode())\n",
    "\n",
    "txt = txt.strip()\n",
    "\n",
    "print(txt)\n",
    "\n",
    "#ard.write(b'\\x0101')\n",
    "\n",
    "#for t in range(len(text)):\n",
    "#    ard.write(t.encode())\n",
    "#while True:\n",
    "#    data = arduino.readline()\n",
    "    #if data:\n",
    "    #    print data.rstrip('\\n') #strip out the new lines for now\n",
    "        # (better to do .read() in the long run for this reason\n",
    "        \n",
    "counter = 32 # Below 32 everything in ASCII is gibberish\n",
    "while True:\n",
    "    counter +=1\n",
    "    #arduino.write(str(chr(counter))) # Convert the decimal number to ASCII then send it to the Arduino\n",
    "    #print(arduino.readline()) # Read the newest output from the Arduino\n",
    "    time.sleep(.5) # Delay for one tenth of a second\n",
    "    if counter == 255:\n",
    "        break;      \n",
    "    ard.write(txt.encode())\n",
    "\n"
   ]
  },
  {
   "cell_type": "code",
   "execution_count": 5,
   "metadata": {},
   "outputs": [
    {
     "data": {
      "text/plain": [
       "16"
      ]
     },
     "execution_count": 5,
     "metadata": {},
     "output_type": "execute_result"
    }
   ],
   "source": [
    "txt = \" Hi, VoiceGlass!\"\n",
    "ard.write(txt.encode())"
   ]
  },
  {
   "cell_type": "code",
   "execution_count": null,
   "metadata": {},
   "outputs": [],
   "source": [
    "ard.write(\" google\".encode())"
   ]
  },
  {
   "cell_type": "code",
   "execution_count": null,
   "metadata": {},
   "outputs": [],
   "source": []
  }
 ],
 "metadata": {
  "kernelspec": {
   "display_name": "Python 3",
   "language": "python",
   "name": "python3"
  },
  "language_info": {
   "codemirror_mode": {
    "name": "ipython",
    "version": 3
   },
   "file_extension": ".py",
   "mimetype": "text/x-python",
   "name": "python",
   "nbconvert_exporter": "python",
   "pygments_lexer": "ipython3",
   "version": "3.7.7"
  }
 },
 "nbformat": 4,
 "nbformat_minor": 4
}
